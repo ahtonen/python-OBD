{
 "cells": [
  {
   "cell_type": "code",
   "execution_count": 1,
   "id": "3aa14253-1cb4-460b-b755-34343046b29c",
   "metadata": {},
   "outputs": [
    {
     "name": "stderr",
     "output_type": "stream",
     "text": [
      "[obd.obd] ======================= python-OBD (v0.7.1) =======================\n",
      "[obd.obd] Using scan_serial to select port\n",
      "[obd.obd] Available ports: ['/dev/rfcomm0']\n",
      "[obd.obd] Attempting to use port: /dev/rfcomm0\n",
      "[obd.elm327] Initializing ELM327: PORT=/dev/rfcomm0 BAUD=auto PROTOCOL=auto\n",
      "[obd.elm327] Response from baud 38400: b''\n"
     ]
    },
    {
     "name": "stdout",
     "output_type": "stream",
     "text": [
      "['/dev/rfcomm0']\n"
     ]
    },
    {
     "name": "stderr",
     "output_type": "stream",
     "text": [
      "[obd.elm327] Response from baud 9600: b'?\\r\\r>?\\r\\r>'\n",
      "[obd.elm327] Choosing baud 9600\n",
      "[obd.elm327] write: b'ATZ\\r'\n",
      "[obd.elm327] wait: 1 seconds\n",
      "[obd.elm327] read: b'\\xfc\\r\\rELM327 v1.5\\r\\r>'\n",
      "[obd.elm327] write: b'ATE0\\r'\n",
      "[obd.elm327] read: b'ATE0\\rOK\\r\\r>'\n",
      "[obd.elm327] write: b'ATH1\\r'\n",
      "[obd.elm327] read: b'OK\\r\\r>'\n",
      "[obd.elm327] write: b'ATL0\\r'\n",
      "[obd.elm327] read: b'OK\\r\\r>'\n",
      "[obd.elm327] write: b'AT RV\\r'\n",
      "[obd.elm327] read: b'12.1V\\r\\r>'\n",
      "[obd.elm327] write: b'ATSP0\\r'\n",
      "[obd.elm327] wait: 1 seconds\n",
      "[obd.elm327] read: b'OK\\r\\r>'\n",
      "[obd.elm327] write: b'0100\\r'\n",
      "[obd.elm327] wait: 1 seconds\n",
      "[obd.elm327] read: b'SEARCHING...\\rUNABLE TO CONNECT\\r\\r>'\n",
      "[obd.elm327] Failed to query protocol 0100: unable to connect\n",
      "[obd.elm327] Adapter connected, but the ignition is off\n",
      "[obd.obd] Cannot load commands: No connection to car\n",
      "[obd.obd] ===================================================================\n"
     ]
    }
   ],
   "source": [
    "import obd\n",
    "\n",
    "ports = obd.scan_serial()       # return list of valid USB or RF ports\n",
    "print(ports)                    # ['/dev/ttyUSB0', '/dev/ttyUSB1']\n",
    "obd.logger.setLevel(obd.logging.DEBUG)\n",
    "\n",
    "connection = obd.OBD()\n",
    "#connection = obd.OBD(fast=False, timeout=30, check_voltage=True)"
   ]
  },
  {
   "cell_type": "code",
   "execution_count": 8,
   "id": "849d3147-b84d-4fb3-b829-ac9080ea4d3d",
   "metadata": {},
   "outputs": [
    {
     "name": "stdout",
     "output_type": "stream",
     "text": [
      "pekka\n"
     ]
    }
   ],
   "source": [
    "!whoami"
   ]
  },
  {
   "cell_type": "code",
   "execution_count": 14,
   "id": "d011d25b-695b-46e4-a8a6-67eb6b32f257",
   "metadata": {},
   "outputs": [
    {
     "name": "stdout",
     "output_type": "stream",
     "text": [
      "crw-rw---- 1 root dialout 216, 0 Sep  5 20:58 /dev/rfcomm0\n"
     ]
    }
   ],
   "source": [
    "!ls -la /dev/rfcomm0"
   ]
  },
  {
   "cell_type": "code",
   "execution_count": 12,
   "id": "4dc74d1c-c902-4548-bdfc-d314e0170e78",
   "metadata": {},
   "outputs": [
    {
     "name": "stdout",
     "output_type": "stream",
     "text": [
      "dialout:x:20:pekka\n"
     ]
    }
   ],
   "source": [
    "!fgrep dialout /etc/group"
   ]
  },
  {
   "cell_type": "code",
   "execution_count": null,
   "id": "d8535726-1025-4fa7-bf81-801185502c9b",
   "metadata": {},
   "outputs": [],
   "source": []
  }
 ],
 "metadata": {
  "kernelspec": {
   "display_name": "Python 3 (ipykernel)",
   "language": "python",
   "name": "python3"
  },
  "language_info": {
   "codemirror_mode": {
    "name": "ipython",
    "version": 3
   },
   "file_extension": ".py",
   "mimetype": "text/x-python",
   "name": "python",
   "nbconvert_exporter": "python",
   "pygments_lexer": "ipython3",
   "version": "3.8.10"
  }
 },
 "nbformat": 4,
 "nbformat_minor": 5
}
